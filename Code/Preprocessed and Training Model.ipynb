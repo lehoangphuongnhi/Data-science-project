{
 "cells": [
  {
   "cell_type": "code",
   "execution_count": 1,
   "metadata": {},
   "outputs": [],
   "source": [
    "%matplotlib inline\n",
    "import matplotlib.pyplot as plt\n",
    "import seaborn as sns\n",
    "import pandas as pd\n",
    "import numpy as np\n",
    "\n",
    "from sklearn.model_selection import train_test_split\n",
    "from sklearn.preprocessing import OneHotEncoder, StandardScaler\n",
    "from sklearn.impute import SimpleImputer\n",
    "from sklearn.base import BaseEstimator, TransformerMixin\n",
    "from sklearn.pipeline import Pipeline, make_pipeline\n",
    "from sklearn.compose import ColumnTransformer, make_column_transformer\n",
    "from sklearn.neural_network import MLPClassifier\n",
    "from sklearn.ensemble import RandomForestClassifier\n",
    "from sklearn.svm import SVC\n",
    "from sklearn import set_config\n",
    "set_config(display='diagram')"
   ]
  },
  {
   "cell_type": "markdown",
   "metadata": {},
   "source": [
    "## Khám phá dữ liệu"
   ]
  },
  {
   "cell_type": "code",
   "execution_count": 2,
   "metadata": {},
   "outputs": [
    {
     "data": {
      "text/html": [
       "<div>\n",
       "<style scoped>\n",
       "    .dataframe tbody tr th:only-of-type {\n",
       "        vertical-align: middle;\n",
       "    }\n",
       "\n",
       "    .dataframe tbody tr th {\n",
       "        vertical-align: top;\n",
       "    }\n",
       "\n",
       "    .dataframe thead th {\n",
       "        text-align: right;\n",
       "    }\n",
       "</style>\n",
       "<table border=\"1\" class=\"dataframe\">\n",
       "  <thead>\n",
       "    <tr style=\"text-align: right;\">\n",
       "      <th></th>\n",
       "      <th>brand</th>\n",
       "      <th>technology</th>\n",
       "      <th>display_colors</th>\n",
       "      <th>screen_size</th>\n",
       "      <th>screen_area</th>\n",
       "      <th>screen_to_body_ratio</th>\n",
       "      <th>screen_resolution</th>\n",
       "      <th>rear_camera</th>\n",
       "      <th>front_camera</th>\n",
       "      <th>os</th>\n",
       "      <th>...</th>\n",
       "      <th>radio</th>\n",
       "      <th>headphone_jack</th>\n",
       "      <th>length</th>\n",
       "      <th>width</th>\n",
       "      <th>high</th>\n",
       "      <th>battery_mah</th>\n",
       "      <th>battery_removable</th>\n",
       "      <th>battery_type</th>\n",
       "      <th>real_price</th>\n",
       "      <th>_4G</th>\n",
       "    </tr>\n",
       "  </thead>\n",
       "  <tbody>\n",
       "    <tr>\n",
       "      <th>0</th>\n",
       "      <td>A1</td>\n",
       "      <td>IPS LCD</td>\n",
       "      <td>16.0</td>\n",
       "      <td>6.26</td>\n",
       "      <td>97.8</td>\n",
       "      <td>82.1</td>\n",
       "      <td>1094400.0</td>\n",
       "      <td>13.0</td>\n",
       "      <td>8.0</td>\n",
       "      <td>Android 9.0</td>\n",
       "      <td>...</td>\n",
       "      <td>1.0</td>\n",
       "      <td>1.0</td>\n",
       "      <td>151.7</td>\n",
       "      <td>75.8</td>\n",
       "      <td>8.1</td>\n",
       "      <td>3200</td>\n",
       "      <td>0.0</td>\n",
       "      <td>Li-Ion</td>\n",
       "      <td>1.0</td>\n",
       "      <td>1.0</td>\n",
       "    </tr>\n",
       "    <tr>\n",
       "      <th>1</th>\n",
       "      <td>A1</td>\n",
       "      <td>IPS LCD</td>\n",
       "      <td>16.0</td>\n",
       "      <td>5.50</td>\n",
       "      <td>78.1</td>\n",
       "      <td>77.1</td>\n",
       "      <td>1036800.0</td>\n",
       "      <td>13.0</td>\n",
       "      <td>8.0</td>\n",
       "      <td>Android 8.1</td>\n",
       "      <td>...</td>\n",
       "      <td>1.0</td>\n",
       "      <td>1.0</td>\n",
       "      <td>147.1</td>\n",
       "      <td>68.8</td>\n",
       "      <td>8.7</td>\n",
       "      <td>2900</td>\n",
       "      <td>0.0</td>\n",
       "      <td>Li-Ion</td>\n",
       "      <td>0.0</td>\n",
       "      <td>1.0</td>\n",
       "    </tr>\n",
       "    <tr>\n",
       "      <th>2</th>\n",
       "      <td>Acer</td>\n",
       "      <td>IPS LCD</td>\n",
       "      <td>16.0</td>\n",
       "      <td>5.00</td>\n",
       "      <td>68.9</td>\n",
       "      <td>65.3</td>\n",
       "      <td>921600.0</td>\n",
       "      <td>8.0</td>\n",
       "      <td>2.0</td>\n",
       "      <td>Android 6.0</td>\n",
       "      <td>...</td>\n",
       "      <td>1.0</td>\n",
       "      <td>1.0</td>\n",
       "      <td>145.5</td>\n",
       "      <td>72.5</td>\n",
       "      <td>8.5</td>\n",
       "      <td>2000</td>\n",
       "      <td>1.0</td>\n",
       "      <td>Li-Ion</td>\n",
       "      <td>0.0</td>\n",
       "      <td>1.0</td>\n",
       "    </tr>\n",
       "    <tr>\n",
       "      <th>3</th>\n",
       "      <td>Acer</td>\n",
       "      <td>IPS LCD</td>\n",
       "      <td>16.0</td>\n",
       "      <td>5.50</td>\n",
       "      <td>83.4</td>\n",
       "      <td>71.7</td>\n",
       "      <td>2073600.0</td>\n",
       "      <td>13.0</td>\n",
       "      <td>5.0</td>\n",
       "      <td>Android 6.0</td>\n",
       "      <td>...</td>\n",
       "      <td>1.0</td>\n",
       "      <td>1.0</td>\n",
       "      <td>153.8</td>\n",
       "      <td>75.6</td>\n",
       "      <td>8.5</td>\n",
       "      <td>4080</td>\n",
       "      <td>0.0</td>\n",
       "      <td>Li-Po</td>\n",
       "      <td>1.0</td>\n",
       "      <td>1.0</td>\n",
       "    </tr>\n",
       "    <tr>\n",
       "      <th>4</th>\n",
       "      <td>Acer</td>\n",
       "      <td>IPS LCD</td>\n",
       "      <td>16.0</td>\n",
       "      <td>5.00</td>\n",
       "      <td>68.9</td>\n",
       "      <td>66.4</td>\n",
       "      <td>921600.0</td>\n",
       "      <td>8.0</td>\n",
       "      <td>5.0</td>\n",
       "      <td>Android 6.0</td>\n",
       "      <td>...</td>\n",
       "      <td>1.0</td>\n",
       "      <td>1.0</td>\n",
       "      <td>145.7</td>\n",
       "      <td>71.2</td>\n",
       "      <td>8.4</td>\n",
       "      <td>2000</td>\n",
       "      <td>1.0</td>\n",
       "      <td>Li-Ion</td>\n",
       "      <td>0.0</td>\n",
       "      <td>1.0</td>\n",
       "    </tr>\n",
       "  </tbody>\n",
       "</table>\n",
       "<p>5 rows × 24 columns</p>\n",
       "</div>"
      ],
      "text/plain": [
       "  brand technology  display_colors  screen_size  screen_area  \\\n",
       "0    A1    IPS LCD            16.0         6.26         97.8   \n",
       "1    A1    IPS LCD            16.0         5.50         78.1   \n",
       "2  Acer    IPS LCD            16.0         5.00         68.9   \n",
       "3  Acer    IPS LCD            16.0         5.50         83.4   \n",
       "4  Acer    IPS LCD            16.0         5.00         68.9   \n",
       "\n",
       "   screen_to_body_ratio  screen_resolution  rear_camera  front_camera  \\\n",
       "0                  82.1          1094400.0         13.0           8.0   \n",
       "1                  77.1          1036800.0         13.0           8.0   \n",
       "2                  65.3           921600.0          8.0           2.0   \n",
       "3                  71.7          2073600.0         13.0           5.0   \n",
       "4                  66.4           921600.0          8.0           5.0   \n",
       "\n",
       "            os  ...  radio  headphone_jack  length  width  high  battery_mah  \\\n",
       "0  Android 9.0  ...    1.0             1.0   151.7   75.8   8.1         3200   \n",
       "1  Android 8.1  ...    1.0             1.0   147.1   68.8   8.7         2900   \n",
       "2  Android 6.0  ...    1.0             1.0   145.5   72.5   8.5         2000   \n",
       "3  Android 6.0  ...    1.0             1.0   153.8   75.6   8.5         4080   \n",
       "4  Android 6.0  ...    1.0             1.0   145.7   71.2   8.4         2000   \n",
       "\n",
       "   battery_removable  battery_type  real_price  _4G  \n",
       "0                0.0        Li-Ion         1.0  1.0  \n",
       "1                0.0        Li-Ion         0.0  1.0  \n",
       "2                1.0        Li-Ion         0.0  1.0  \n",
       "3                0.0         Li-Po         1.0  1.0  \n",
       "4                1.0        Li-Ion         0.0  1.0  \n",
       "\n",
       "[5 rows x 24 columns]"
      ]
     },
     "execution_count": 2,
     "metadata": {},
     "output_type": "execute_result"
    }
   ],
   "source": [
    "df = pd.read_csv('phones_preprocessed.csv')\n",
    "df.head()"
   ]
  },
  {
   "cell_type": "markdown",
   "metadata": {},
   "source": [
    "### Dữ liệu có bao nhiêu dòng, bao nhiêu cột"
   ]
  },
  {
   "cell_type": "code",
   "execution_count": 3,
   "metadata": {},
   "outputs": [
    {
     "data": {
      "text/plain": [
       "(4198, 24)"
      ]
     },
     "execution_count": 3,
     "metadata": {},
     "output_type": "execute_result"
    }
   ],
   "source": [
    "df.shape"
   ]
  },
  {
   "cell_type": "markdown",
   "metadata": {},
   "source": [
    "### Xem xét cột output"
   ]
  },
  {
   "cell_type": "code",
   "execution_count": 4,
   "metadata": {},
   "outputs": [
    {
     "data": {
      "text/plain": [
       "dtype('float64')"
      ]
     },
     "execution_count": 4,
     "metadata": {},
     "output_type": "execute_result"
    }
   ],
   "source": [
    "# Cột output hiện có kiểu dữ liệu gì?\n",
    "df.real_price.dtype"
   ]
  },
  {
   "cell_type": "code",
   "execution_count": 5,
   "metadata": {},
   "outputs": [
    {
     "data": {
      "text/plain": [
       "0"
      ]
     },
     "execution_count": 5,
     "metadata": {},
     "output_type": "execute_result"
    }
   ],
   "source": [
    "# Cột output có giá trị thiếu không?\n",
    "df.real_price.isna().sum()"
   ]
  },
  {
   "cell_type": "code",
   "execution_count": 6,
   "metadata": {},
   "outputs": [
    {
     "data": {
      "text/plain": [
       "1.0    41.519771\n",
       "0.0    38.232492\n",
       "2.0    20.247737\n",
       "Name: real_price, dtype: float64"
      ]
     },
     "execution_count": 6,
     "metadata": {},
     "output_type": "execute_result"
    }
   ],
   "source": [
    "# Tỉ lệ các lớp trong cột output?\n",
    "df.real_price.value_counts(normalize=True) * 100"
   ]
  },
  {
   "cell_type": "markdown",
   "metadata": {},
   "source": [
    "### Mỗi cột hiện đang có kiểu dữ liệu gì?"
   ]
  },
  {
   "cell_type": "code",
   "execution_count": 7,
   "metadata": {},
   "outputs": [
    {
     "data": {
      "text/plain": [
       "brand                    object\n",
       "technology               object\n",
       "display_colors          float64\n",
       "screen_size             float64\n",
       "screen_area             float64\n",
       "screen_to_body_ratio    float64\n",
       "screen_resolution       float64\n",
       "rear_camera             float64\n",
       "front_camera            float64\n",
       "os                       object\n",
       "external_memory         float64\n",
       "internal_memory         float64\n",
       "cpu                     float64\n",
       "weight                  float64\n",
       "radio                   float64\n",
       "headphone_jack          float64\n",
       "length                  float64\n",
       "width                   float64\n",
       "high                    float64\n",
       "battery_mah               int64\n",
       "battery_removable       float64\n",
       "battery_type             object\n",
       "real_price              float64\n",
       "_4G                     float64\n",
       "dtype: object"
      ]
     },
     "execution_count": 7,
     "metadata": {},
     "output_type": "execute_result"
    }
   ],
   "source": [
    "df.dtypes"
   ]
  },
  {
   "cell_type": "markdown",
   "metadata": {},
   "source": [
    "### Với mỗi cột input có kiểu dữ liệu dạng số, các giá trị được phân bố như thế nào?"
   ]
  },
  {
   "cell_type": "code",
   "execution_count": 8,
   "metadata": {},
   "outputs": [
    {
     "data": {
      "text/html": [
       "<div>\n",
       "<style scoped>\n",
       "    .dataframe tbody tr th:only-of-type {\n",
       "        vertical-align: middle;\n",
       "    }\n",
       "\n",
       "    .dataframe tbody tr th {\n",
       "        vertical-align: top;\n",
       "    }\n",
       "\n",
       "    .dataframe thead th {\n",
       "        text-align: right;\n",
       "    }\n",
       "</style>\n",
       "<table border=\"1\" class=\"dataframe\">\n",
       "  <thead>\n",
       "    <tr style=\"text-align: right;\">\n",
       "      <th></th>\n",
       "      <th>display_colors</th>\n",
       "      <th>screen_size</th>\n",
       "      <th>screen_area</th>\n",
       "      <th>screen_to_body_ratio</th>\n",
       "      <th>screen_resolution</th>\n",
       "      <th>rear_camera</th>\n",
       "      <th>front_camera</th>\n",
       "      <th>external_memory</th>\n",
       "      <th>internal_memory</th>\n",
       "      <th>cpu</th>\n",
       "      <th>weight</th>\n",
       "      <th>radio</th>\n",
       "      <th>headphone_jack</th>\n",
       "      <th>length</th>\n",
       "      <th>width</th>\n",
       "      <th>high</th>\n",
       "      <th>battery_mah</th>\n",
       "      <th>battery_removable</th>\n",
       "      <th>real_price</th>\n",
       "      <th>_4G</th>\n",
       "    </tr>\n",
       "  </thead>\n",
       "  <tbody>\n",
       "    <tr>\n",
       "      <th>missing_ratio</th>\n",
       "      <td>5.900</td>\n",
       "      <td>0.0</td>\n",
       "      <td>0.3</td>\n",
       "      <td>2.7</td>\n",
       "      <td>0.1</td>\n",
       "      <td>0.0</td>\n",
       "      <td>0.0</td>\n",
       "      <td>0.1</td>\n",
       "      <td>7.700000</td>\n",
       "      <td>3.200</td>\n",
       "      <td>7.5</td>\n",
       "      <td>3.0</td>\n",
       "      <td>0.1</td>\n",
       "      <td>2.5</td>\n",
       "      <td>2.5</td>\n",
       "      <td>2.6</td>\n",
       "      <td>0.0</td>\n",
       "      <td>0.0</td>\n",
       "      <td>0.0</td>\n",
       "      <td>0.0</td>\n",
       "    </tr>\n",
       "    <tr>\n",
       "      <th>min</th>\n",
       "      <td>0.065</td>\n",
       "      <td>0.0</td>\n",
       "      <td>9.3</td>\n",
       "      <td>16.4</td>\n",
       "      <td>36608.0</td>\n",
       "      <td>0.0</td>\n",
       "      <td>0.0</td>\n",
       "      <td>0.0</td>\n",
       "      <td>0.000977</td>\n",
       "      <td>0.123</td>\n",
       "      <td>71.0</td>\n",
       "      <td>0.0</td>\n",
       "      <td>0.0</td>\n",
       "      <td>67.0</td>\n",
       "      <td>43.4</td>\n",
       "      <td>0.0</td>\n",
       "      <td>0.0</td>\n",
       "      <td>0.0</td>\n",
       "      <td>0.0</td>\n",
       "      <td>0.0</td>\n",
       "    </tr>\n",
       "    <tr>\n",
       "      <th>lower_quartile</th>\n",
       "      <td>16.000</td>\n",
       "      <td>4.0</td>\n",
       "      <td>45.5</td>\n",
       "      <td>58.2</td>\n",
       "      <td>384000.0</td>\n",
       "      <td>5.0</td>\n",
       "      <td>0.3</td>\n",
       "      <td>1.0</td>\n",
       "      <td>0.800000</td>\n",
       "      <td>1.100</td>\n",
       "      <td>130.2</td>\n",
       "      <td>0.0</td>\n",
       "      <td>1.0</td>\n",
       "      <td>124.0</td>\n",
       "      <td>64.2</td>\n",
       "      <td>8.2</td>\n",
       "      <td>1540.0</td>\n",
       "      <td>0.0</td>\n",
       "      <td>0.0</td>\n",
       "      <td>0.0</td>\n",
       "    </tr>\n",
       "    <tr>\n",
       "      <th>median</th>\n",
       "      <td>16.000</td>\n",
       "      <td>5.0</td>\n",
       "      <td>68.9</td>\n",
       "      <td>67.5</td>\n",
       "      <td>921600.0</td>\n",
       "      <td>8.0</td>\n",
       "      <td>2.1</td>\n",
       "      <td>1.0</td>\n",
       "      <td>2.000000</td>\n",
       "      <td>1.400</td>\n",
       "      <td>150.3</td>\n",
       "      <td>1.0</td>\n",
       "      <td>1.0</td>\n",
       "      <td>143.4</td>\n",
       "      <td>71.1</td>\n",
       "      <td>9.1</td>\n",
       "      <td>2400.0</td>\n",
       "      <td>0.0</td>\n",
       "      <td>1.0</td>\n",
       "      <td>1.0</td>\n",
       "    </tr>\n",
       "    <tr>\n",
       "      <th>upper_quartile</th>\n",
       "      <td>16.000</td>\n",
       "      <td>5.7</td>\n",
       "      <td>85.1</td>\n",
       "      <td>74.5</td>\n",
       "      <td>2073600.0</td>\n",
       "      <td>13.0</td>\n",
       "      <td>8.0</td>\n",
       "      <td>1.0</td>\n",
       "      <td>4.000000</td>\n",
       "      <td>2.000</td>\n",
       "      <td>173.0</td>\n",
       "      <td>1.0</td>\n",
       "      <td>1.0</td>\n",
       "      <td>154.7</td>\n",
       "      <td>75.2</td>\n",
       "      <td>11.0</td>\n",
       "      <td>3300.0</td>\n",
       "      <td>1.0</td>\n",
       "      <td>1.0</td>\n",
       "      <td>1.0</td>\n",
       "    </tr>\n",
       "    <tr>\n",
       "      <th>max</th>\n",
       "      <td>1000.000</td>\n",
       "      <td>203.0</td>\n",
       "      <td>205.0</td>\n",
       "      <td>180.8</td>\n",
       "      <td>8294400.0</td>\n",
       "      <td>108.0</td>\n",
       "      <td>108.0</td>\n",
       "      <td>1.0</td>\n",
       "      <td>12.000000</td>\n",
       "      <td>3.130</td>\n",
       "      <td>469.0</td>\n",
       "      <td>1.0</td>\n",
       "      <td>1.0</td>\n",
       "      <td>194.3</td>\n",
       "      <td>145.2</td>\n",
       "      <td>28.2</td>\n",
       "      <td>30000.0</td>\n",
       "      <td>1.0</td>\n",
       "      <td>2.0</td>\n",
       "      <td>1.0</td>\n",
       "    </tr>\n",
       "  </tbody>\n",
       "</table>\n",
       "</div>"
      ],
      "text/plain": [
       "                display_colors  screen_size  screen_area  \\\n",
       "missing_ratio            5.900          0.0          0.3   \n",
       "min                      0.065          0.0          9.3   \n",
       "lower_quartile          16.000          4.0         45.5   \n",
       "median                  16.000          5.0         68.9   \n",
       "upper_quartile          16.000          5.7         85.1   \n",
       "max                   1000.000        203.0        205.0   \n",
       "\n",
       "                screen_to_body_ratio  screen_resolution  rear_camera  \\\n",
       "missing_ratio                    2.7                0.1          0.0   \n",
       "min                             16.4            36608.0          0.0   \n",
       "lower_quartile                  58.2           384000.0          5.0   \n",
       "median                          67.5           921600.0          8.0   \n",
       "upper_quartile                  74.5          2073600.0         13.0   \n",
       "max                            180.8          8294400.0        108.0   \n",
       "\n",
       "                front_camera  external_memory  internal_memory    cpu  weight  \\\n",
       "missing_ratio            0.0              0.1         7.700000  3.200     7.5   \n",
       "min                      0.0              0.0         0.000977  0.123    71.0   \n",
       "lower_quartile           0.3              1.0         0.800000  1.100   130.2   \n",
       "median                   2.1              1.0         2.000000  1.400   150.3   \n",
       "upper_quartile           8.0              1.0         4.000000  2.000   173.0   \n",
       "max                    108.0              1.0        12.000000  3.130   469.0   \n",
       "\n",
       "                radio  headphone_jack  length  width  high  battery_mah  \\\n",
       "missing_ratio     3.0             0.1     2.5    2.5   2.6          0.0   \n",
       "min               0.0             0.0    67.0   43.4   0.0          0.0   \n",
       "lower_quartile    0.0             1.0   124.0   64.2   8.2       1540.0   \n",
       "median            1.0             1.0   143.4   71.1   9.1       2400.0   \n",
       "upper_quartile    1.0             1.0   154.7   75.2  11.0       3300.0   \n",
       "max               1.0             1.0   194.3  145.2  28.2      30000.0   \n",
       "\n",
       "                battery_removable  real_price  _4G  \n",
       "missing_ratio                 0.0         0.0  0.0  \n",
       "min                           0.0         0.0  0.0  \n",
       "lower_quartile                0.0         0.0  0.0  \n",
       "median                        0.0         1.0  1.0  \n",
       "upper_quartile                1.0         1.0  1.0  \n",
       "max                           1.0         2.0  1.0  "
      ]
     },
     "execution_count": 8,
     "metadata": {},
     "output_type": "execute_result"
    }
   ],
   "source": [
    "num_col_info_df = df.select_dtypes(exclude='object')\n",
    "def missing_ratio(s):\n",
    "    return (s.isna().mean() * 100).round(1)\n",
    "def median(num_col_info_df):\n",
    "    return num_col_info_df.quantile(0.5).round(1)\n",
    "def lower_quartile(num_col_info_df):\n",
    "    return num_col_info_df.quantile(0.25).round(1)\n",
    "def upper_quartile(num_col_info_df):\n",
    "    return num_col_info_df.quantile(0.75).round(1)\n",
    "num_col_info_df.agg([missing_ratio, min, lower_quartile, median, upper_quartile, max])"
   ]
  },
  {
   "cell_type": "markdown",
   "metadata": {},
   "source": [
    "### Với mỗi cột input có kiểu dữ liệu không phải dạng số, các giá trị được phân bố như thế nào?"
   ]
  },
  {
   "cell_type": "code",
   "execution_count": 9,
   "metadata": {},
   "outputs": [
    {
     "data": {
      "text/html": [
       "<div>\n",
       "<style scoped>\n",
       "    .dataframe tbody tr th:only-of-type {\n",
       "        vertical-align: middle;\n",
       "    }\n",
       "\n",
       "    .dataframe tbody tr th {\n",
       "        vertical-align: top;\n",
       "    }\n",
       "\n",
       "    .dataframe thead th {\n",
       "        text-align: right;\n",
       "    }\n",
       "</style>\n",
       "<table border=\"1\" class=\"dataframe\">\n",
       "  <thead>\n",
       "    <tr style=\"text-align: right;\">\n",
       "      <th></th>\n",
       "      <th>technology</th>\n",
       "      <th>brand</th>\n",
       "      <th>os</th>\n",
       "      <th>battery_type</th>\n",
       "    </tr>\n",
       "  </thead>\n",
       "  <tbody>\n",
       "    <tr>\n",
       "      <th>missing_ratio</th>\n",
       "      <td>3.7</td>\n",
       "      <td>0</td>\n",
       "      <td>2.6</td>\n",
       "      <td>2.2</td>\n",
       "    </tr>\n",
       "    <tr>\n",
       "      <th>num_values</th>\n",
       "      <td>80</td>\n",
       "      <td>83</td>\n",
       "      <td>144</td>\n",
       "      <td>2</td>\n",
       "    </tr>\n",
       "    <tr>\n",
       "      <th>value_ratios</th>\n",
       "      <td>{'IPS LCD': 43.8, 'TFT': 27.4, 'Super AMOLED': 8.4, 'AMOLED': 5.9, 'LTPS IPS LCD': 2.8, 'OLED': 1.4, 'S-LCD': 0.6, 'PLS TFT': 0.6, 'LED-backlit LCD': 0.6, 'LED-backlit IPS LCD': 0.6, 'Super LCD3':...</td>\n",
       "      <td>{'Samsung': 10.4, 'Huawei': 7.0, 'Lg': 5.6, 'Htc': 5.4, 'Motorola': 5.1, 'Nokia': 4.6, 'Oppo': 4.5, 'Zte': 3.6, 'Vivo': 3.5, 'Micromax': 3.5, 'Lenovo': 3.3, 'Xiaomi': 3.1, 'Alcatel': 3.0, 'Blu': 2...</td>\n",
       "      <td>{'Android 9.0': 8.1, 'Android 4.4.2': 7.3, 'Android 10': 6.8, 'Android 8.1': 4.7, 'Android 4.2': 4.5, 'Android 5.1': 4.3, 'Android 6.0': 4.2, 'Android 2.3': 3.6, 'Android 7.0': 3.4, 'Android 4.0':...</td>\n",
       "      <td>{'Li-Ion': 67.7, 'Li-Po': 32.3}</td>\n",
       "    </tr>\n",
       "  </tbody>\n",
       "</table>\n",
       "</div>"
      ],
      "text/plain": [
       "                                                                                                                                                                                                            technology  \\\n",
       "missing_ratio                                                                                                                                                                                                      3.7   \n",
       "num_values                                                                                                                                                                                                          80   \n",
       "value_ratios   {'IPS LCD': 43.8, 'TFT': 27.4, 'Super AMOLED': 8.4, 'AMOLED': 5.9, 'LTPS IPS LCD': 2.8, 'OLED': 1.4, 'S-LCD': 0.6, 'PLS TFT': 0.6, 'LED-backlit LCD': 0.6, 'LED-backlit IPS LCD': 0.6, 'Super LCD3':...   \n",
       "\n",
       "                                                                                                                                                                                                                 brand  \\\n",
       "missing_ratio                                                                                                                                                                                                        0   \n",
       "num_values                                                                                                                                                                                                          83   \n",
       "value_ratios   {'Samsung': 10.4, 'Huawei': 7.0, 'Lg': 5.6, 'Htc': 5.4, 'Motorola': 5.1, 'Nokia': 4.6, 'Oppo': 4.5, 'Zte': 3.6, 'Vivo': 3.5, 'Micromax': 3.5, 'Lenovo': 3.3, 'Xiaomi': 3.1, 'Alcatel': 3.0, 'Blu': 2...   \n",
       "\n",
       "                                                                                                                                                                                                                    os  \\\n",
       "missing_ratio                                                                                                                                                                                                      2.6   \n",
       "num_values                                                                                                                                                                                                         144   \n",
       "value_ratios   {'Android 9.0': 8.1, 'Android 4.4.2': 7.3, 'Android 10': 6.8, 'Android 8.1': 4.7, 'Android 4.2': 4.5, 'Android 5.1': 4.3, 'Android 6.0': 4.2, 'Android 2.3': 3.6, 'Android 7.0': 3.4, 'Android 4.0':...   \n",
       "\n",
       "                                  battery_type  \n",
       "missing_ratio                              2.2  \n",
       "num_values                                   2  \n",
       "value_ratios   {'Li-Ion': 67.7, 'Li-Po': 32.3}  "
      ]
     },
     "execution_count": 9,
     "metadata": {},
     "output_type": "execute_result"
    }
   ],
   "source": [
    "pd.set_option('display.max_colwidth', 200) # Để nhìn rõ hơn\n",
    "cat_cols = list(set(df.columns) - set(num_col_info_df))\n",
    "df1 = df[cat_cols]\n",
    "def missing_ratio(df1):\n",
    "    return (df1.isna().mean() * 100).round(1)\n",
    "def num_values(df1):\n",
    "    return df1.nunique()\n",
    "def value_ratios(c):\n",
    "    return dict((c.value_counts(normalize=True) * 100).round(1))\n",
    "df1.agg([missing_ratio, num_values, value_ratios])"
   ]
  },
  {
   "cell_type": "markdown",
   "metadata": {},
   "source": [
    "## Đặt câu hỏi"
   ]
  },
  {
   "cell_type": "markdown",
   "metadata": {},
   "source": [
    "- Câu hỏi: Dự đoán khoảng giá (thấp, trung bình, cao) của điện thoại dựa trên các thuộc tính đặc trưng của điện thoại?\n",
    "    - Input: Các đặc trưng của điện thoại\n",
    "    - Output: Khoảng giá của điện thoại\n",
    "- Ý nghĩa thực tế:\n",
    "    - Đối với người tiêu dùng: Đem lại các thông tin cần thiết cho người muốn mua điện thoại (ví dụ: khi người tiêu dùng muốn mua điện thoại có cấu hình nào đó thì mức giá sẽ rơi vào khoảng bao nhiêu)\n",
    "    - Đối với nhà sản xuất: Cân nhắc để đưa ra được mức giá phù hợp cho điện thoại chuẩn bị tung ra thị trường"
   ]
  },
  {
   "cell_type": "markdown",
   "metadata": {},
   "source": [
    "## Tách tập và xem xét độ tương quan giữa các thuộc tính"
   ]
  },
  {
   "cell_type": "markdown",
   "metadata": {},
   "source": [
    "### Tách tập (train, test)"
   ]
  },
  {
   "cell_type": "code",
   "execution_count": 10,
   "metadata": {},
   "outputs": [],
   "source": [
    "y = df.real_price\n",
    "X = df.drop('real_price', axis = 1)"
   ]
  },
  {
   "cell_type": "code",
   "execution_count": 11,
   "metadata": {},
   "outputs": [],
   "source": [
    "train_X, test_X, train_y, test_y = train_test_split(X, y, test_size=0.2, random_state=0)"
   ]
  },
  {
   "cell_type": "code",
   "execution_count": 12,
   "metadata": {},
   "outputs": [],
   "source": [
    "train_data = train_X.copy()\n",
    "train_data['real_price'] = train_y.copy()"
   ]
  },
  {
   "cell_type": "code",
   "execution_count": 13,
   "metadata": {},
   "outputs": [],
   "source": [
    "train_data.to_csv('train_data.csv', index = False)\n",
    "test_X.to_csv('test_X.csv', index = False)\n",
    "test_y.to_csv('test_y.csv', index = False)"
   ]
  },
  {
   "cell_type": "code",
   "execution_count": 14,
   "metadata": {},
   "outputs": [],
   "source": [
    "train_df = pd.read_csv('train_data.csv')"
   ]
  },
  {
   "cell_type": "code",
   "execution_count": 15,
   "metadata": {},
   "outputs": [
    {
     "data": {
      "text/plain": [
       "(3358, 24)"
      ]
     },
     "execution_count": 15,
     "metadata": {},
     "output_type": "execute_result"
    }
   ],
   "source": [
    "train_df.shape"
   ]
  },
  {
   "cell_type": "markdown",
   "metadata": {},
   "source": [
    "### Xem xét độ tương quan giữa các thuộc tính\n",
    "- Copy tập train ra và xử lý các giá trị nan trên đó, sau đó vẽ biểu đồ Heatmap để xem xét độ tương quan"
   ]
  },
  {
   "cell_type": "code",
   "execution_count": 16,
   "metadata": {},
   "outputs": [],
   "source": [
    "df = train_df.copy()"
   ]
  },
  {
   "cell_type": "code",
   "execution_count": 17,
   "metadata": {},
   "outputs": [],
   "source": [
    "num_mean_cols = ['display_colors', 'screen_size', 'screen_area', 'screen_to_body_ratio', 'screen_resolution', 'rear_camera',\n",
    "            'front_camera', 'internal_memory', 'cpu', 'weight', 'length', 'width', 'high', 'battery_mah']\n"
   ]
  },
  {
   "cell_type": "code",
   "execution_count": 18,
   "metadata": {},
   "outputs": [],
   "source": [
    "\n",
    "num_median_cols = ['external_memory', 'radio', 'headphone_jack', 'battery_removable', '_4G' ]"
   ]
  },
  {
   "cell_type": "code",
   "execution_count": 19,
   "metadata": {},
   "outputs": [],
   "source": [
    "for col in num_mean_cols:\n",
    "    df[col] = df[col].apply(lambda x: df[col].mean() if str(x) == 'nan' else x)"
   ]
  },
  {
   "cell_type": "code",
   "execution_count": 20,
   "metadata": {},
   "outputs": [],
   "source": [
    "for col in num_median_cols:\n",
    "    df[col] = df[col].apply(lambda x: df[col].median() if str(x) == 'nan' else x)"
   ]
  },
  {
   "cell_type": "markdown",
   "metadata": {},
   "source": [
    "#### Vẽ biểu đồ Heatmap biểu diễn sự tương quan của các thuộc tính"
   ]
  },
  {
   "cell_type": "code",
   "execution_count": 21,
   "metadata": {},
   "outputs": [
    {
     "data": {
      "image/png": "[encoded data removed]",
      "text/plain": [
       "<Figure size 1440x1440 with 2 Axes>"
      ]
     },
     "metadata": {
      "needs_background": "light"
     },
     "output_type": "display_data"
    }
   ],
   "source": [
    "X = df.iloc[:,0:]  \n",
    "y = df.real_price  \n",
    "corrmat = df.corr()\n",
    "top_corr_features = corrmat.index\n",
    "plt.figure(figsize=(20,20))\n",
    "g=sns.heatmap(df[top_corr_features].corr(),annot=True,cmap=\"RdYlGn\")"
   ]
  },
  {
   "cell_type": "markdown",
   "metadata": {},
   "source": [
    "### Tách tập (train, validation)\n",
    "- Từ tập train đã tách ở trên tiếp tục tách ra thành 2 tập train và validation"
   ]
  },
  {
   "cell_type": "code",
   "execution_count": 22,
   "metadata": {},
   "outputs": [],
   "source": [
    "y = train_df.real_price\n",
    "X = train_df.drop('real_price', axis = 1)"
   ]
  },
  {
   "cell_type": "code",
   "execution_count": 23,
   "metadata": {},
   "outputs": [],
   "source": [
    "train_X, val_X, train_y, val_y = train_test_split(X, y, test_size=0.2, random_state=0)"
   ]
  },
  {
   "cell_type": "code",
   "execution_count": 24,
   "metadata": {},
   "outputs": [
    {
     "data": {
      "text/plain": [
       "(2686, 23)"
      ]
     },
     "execution_count": 24,
     "metadata": {},
     "output_type": "execute_result"
    }
   ],
   "source": [
    "train_X.shape\n"
   ]
  },
  {
   "cell_type": "code",
   "execution_count": 25,
   "metadata": {},
   "outputs": [
    {
     "data": {
      "text/plain": [
       "(672, 23)"
      ]
     },
     "execution_count": 25,
     "metadata": {},
     "output_type": "execute_result"
    }
   ],
   "source": [
    "val_X.shape\n"
   ]
  },
  {
   "cell_type": "code",
   "execution_count": 26,
   "metadata": {},
   "outputs": [
    {
     "data": {
      "text/plain": [
       "(2686,)"
      ]
     },
     "execution_count": 26,
     "metadata": {},
     "output_type": "execute_result"
    }
   ],
   "source": [
    "train_y.shape\n"
   ]
  },
  {
   "cell_type": "code",
   "execution_count": 27,
   "metadata": {},
   "outputs": [
    {
     "data": {
      "text/plain": [
       "(672,)"
      ]
     },
     "execution_count": 27,
     "metadata": {},
     "output_type": "execute_result"
    }
   ],
   "source": [
    "\n",
    "val_y.shape"
   ]
  },
  {
   "cell_type": "markdown",
   "metadata": {},
   "source": [
    "## Tiền xử lý và chạy mô hình"
   ]
  },
  {
   "cell_type": "markdown",
   "metadata": {},
   "source": [
    "### Tiền xử lý (tập huấn luyện)\n",
    "- Sau khi xem xét độ tương quan giữa các thuộc tính, ta bỏ thêm một số cột nữa vì độ tương quan với thuộc tính lớp là không cao: `high`, `display_colors`, `headphone_jack`, `radio`\n",
    "- Class `ColAdderDropper` để thực hiện xóa các cột ở trên và tính toán `num_top_titles` của các thuộc tính `brand`, `technology`, `os`"
   ]
  },
  {
   "cell_type": "code",
   "execution_count": 28,
   "metadata": {},
   "outputs": [],
   "source": [
    "class ColAdderDropper(BaseEstimator, TransformerMixin):\n",
    "    def __init__(self, num_top_titles=10, col_name = 'brand'):\n",
    "        self.num_top_titles = num_top_titles\n",
    "        self.col_name = col_name\n",
    "    def fit(self, X_df, y=None):\n",
    "        a = self.col_name\n",
    "        title_col = X_df[a].str.extract(r'([a-zA-z ]+)', expand=False)\n",
    "        self.title_counts_ = title_col.value_counts()\n",
    "        titles = list(self.title_counts_.index)\n",
    "        self.top_titles_ = titles[:max(1, min(self.num_top_titles, len(titles)))]\n",
    "        return self\n",
    "    def transform(self, X_df, y=None):\n",
    "        transform_df = X_df.copy()\n",
    "        a = self.col_name\n",
    "        title_col = transform_df[a].str.extract(r'([a-zA-z ]+)', expand=False)\n",
    "        title_col[~title_col.isin(self.top_titles_)] = 'Others'\n",
    "        transform_df[a] = title_col\n",
    "        if (self.col_name == 'brand'):\n",
    "            transform_df.drop(['high', 'display_colors', 'headphone_jack', 'radio'], axis = 1, inplace = True)\n",
    "        return transform_df\n",
    "    "
   ]
  },
  {
   "cell_type": "markdown",
   "metadata": {},
   "source": [
    "### Tạo pipeline để thực hiện tiền xử lý\n",
    "- Đối với các cột dạng số, sẽ điền giá trị thiếu bằng giá trị mean của cột\n",
    "- Đối với các cột dạng số nhưng có dạng (0,1), sẽ điền giá trị thiếu bằng giá trị median của cột\n",
    "- Đối với các cột không phải dạng số:\n",
    "    - Điền giá trị thiếu bằng giá trị mode (giá trị xuất hiện nhiều nhất) của cột\n",
    "    - Sau đó, sẽ chuyển sang dạng số bằng phương pháp mã hóa one - hot"
   ]
  },
  {
   "cell_type": "code",
   "execution_count": 29,
   "metadata": {},
   "outputs": [
    {
     "data": {
      "text/html": [
       "<style>div.sk-top-container {color: black;background-color: white;}div.sk-toggleable {background-color: white;}label.sk-toggleable__label {cursor: pointer;display: block;width: 100%;margin-bottom: 0;padding: 0.2em 0.3em;box-sizing: border-box;text-align: center;}div.sk-toggleable__content {max-height: 0;max-width: 0;overflow: hidden;text-align: left;background-color: #f0f8ff;}div.sk-toggleable__content pre {margin: 0.2em;color: black;border-radius: 0.25em;background-color: #f0f8ff;}input.sk-toggleable__control:checked~div.sk-toggleable__content {max-height: 200px;max-width: 100%;overflow: auto;}div.sk-estimator input.sk-toggleable__control:checked~label.sk-toggleable__label {background-color: #d4ebff;}div.sk-label input.sk-toggleable__control:checked~label.sk-toggleable__label {background-color: #d4ebff;}input.sk-hidden--visually {border: 0;clip: rect(1px 1px 1px 1px);clip: rect(1px, 1px, 1px, 1px);height: 1px;margin: -1px;overflow: hidden;padding: 0;position: absolute;width: 1px;}div.sk-estimator {font-family: monospace;background-color: #f0f8ff;margin: 0.25em 0.25em;border: 1px dotted black;border-radius: 0.25em;box-sizing: border-box;}div.sk-estimator:hover {background-color: #d4ebff;}div.sk-parallel-item::after {content: \"\";width: 100%;border-bottom: 1px solid gray;flex-grow: 1;}div.sk-label:hover label.sk-toggleable__label {background-color: #d4ebff;}div.sk-serial::before {content: \"\";position: absolute;border-left: 1px solid gray;box-sizing: border-box;top: 2em;bottom: 0;left: 50%;}div.sk-serial {display: flex;flex-direction: column;align-items: center;background-color: white;}div.sk-item {z-index: 1;}div.sk-parallel {display: flex;align-items: stretch;justify-content: center;background-color: white;}div.sk-parallel-item {display: flex;flex-direction: column;position: relative;background-color: white;}div.sk-parallel-item:first-child::after {align-self: flex-end;width: 50%;}div.sk-parallel-item:last-child::after {align-self: flex-start;width: 50%;}div.sk-parallel-item:only-child::after {width: 0;}div.sk-dashed-wrapped {border: 1px dashed gray;margin: 0.2em;box-sizing: border-box;padding-bottom: 0.1em;background-color: white;position: relative;}div.sk-label label {font-family: monospace;font-weight: bold;background-color: white;display: inline-block;line-height: 1.2em;}div.sk-label-container {position: relative;z-index: 2;text-align: center;}div.sk-container {display: inline-block;position: relative;}</style><div class=\"sk-top-container\"><div class=\"sk-container\"><div class=\"sk-item sk-dashed-wrapped\"><div class=\"sk-label-container\"><div class=\"sk-label sk-toggleable\"><input class=\"sk-toggleable__control sk-hidden--visually\" id=\"943cc12d-e7cc-4123-9d53-eb48c5883fd6\" type=\"checkbox\" ><label class=\"sk-toggleable__label\" for=\"943cc12d-e7cc-4123-9d53-eb48c5883fd6\">Pipeline</label><div class=\"sk-toggleable__content\"><pre>Pipeline(steps=[('coladderdropper-1', ColAdderDropper()),\n",
       "                ('coladderdropper-2', ColAdderDropper(col_name='technology')),\n",
       "                ('coladderdropper-3', ColAdderDropper(col_name='os')),\n",
       "                ('columntransformer',\n",
       "                 ColumnTransformer(remainder='passthrough',\n",
       "                                   transformers=[('num_mean', SimpleImputer(),\n",
       "                                                  ['screen_size', 'screen_area',\n",
       "                                                   'screen_to_body_ratio',\n",
       "                                                   'screen_resolution',\n",
       "                                                   're...\n",
       "                                                   'weight', 'length', 'width',\n",
       "                                                   'battery_mah']),\n",
       "                                                 ('num_median',\n",
       "                                                  SimpleImputer(strategy='median'),\n",
       "                                                  ['external_memory',\n",
       "                                                   'battery_removable',\n",
       "                                                   '_4G']),\n",
       "                                                 ('categorical',\n",
       "                                                  Pipeline(steps=[('simpleimputer',\n",
       "                                                                   SimpleImputer(strategy='most_frequent')),\n",
       "                                                                  ('onehotencoder',\n",
       "                                                                   OneHotEncoder(handle_unknown='ignore'))]),\n",
       "                                                  ['brand', 'technology', 'os',\n",
       "                                                   'battery_type'])])),\n",
       "                ('standardscaler', StandardScaler())])</pre></div></div></div><div class=\"sk-serial\"><div class=\"sk-item\"><div class=\"sk-estimator sk-toggleable\"><input class=\"sk-toggleable__control sk-hidden--visually\" id=\"913229e1-6225-483c-a977-330c6a6c7095\" type=\"checkbox\" ><label class=\"sk-toggleable__label\" for=\"913229e1-6225-483c-a977-330c6a6c7095\">ColAdderDropper</label><div class=\"sk-toggleable__content\"><pre>ColAdderDropper()</pre></div></div></div><div class=\"sk-item\"><div class=\"sk-estimator sk-toggleable\"><input class=\"sk-toggleable__control sk-hidden--visually\" id=\"3286af91-e927-4a44-b1b7-2648c4e0115f\" type=\"checkbox\" ><label class=\"sk-toggleable__label\" for=\"3286af91-e927-4a44-b1b7-2648c4e0115f\">ColAdderDropper</label><div class=\"sk-toggleable__content\"><pre>ColAdderDropper(col_name='technology')</pre></div></div></div><div class=\"sk-item\"><div class=\"sk-estimator sk-toggleable\"><input class=\"sk-toggleable__control sk-hidden--visually\" id=\"a9e821c8-db4f-4a9a-a491-a7ad8403b9ee\" type=\"checkbox\" ><label class=\"sk-toggleable__label\" for=\"a9e821c8-db4f-4a9a-a491-a7ad8403b9ee\">ColAdderDropper</label><div class=\"sk-toggleable__content\"><pre>ColAdderDropper(col_name='os')</pre></div></div></div><div class=\"sk-item sk-dashed-wrapped\"><div class=\"sk-label-container\"><div class=\"sk-label sk-toggleable\"><input class=\"sk-toggleable__control sk-hidden--visually\" id=\"28fce6e7-b70f-4480-a4e6-27e1d7890411\" type=\"checkbox\" ><label class=\"sk-toggleable__label\" for=\"28fce6e7-b70f-4480-a4e6-27e1d7890411\">columntransformer: ColumnTransformer</label><div class=\"sk-toggleable__content\"><pre>ColumnTransformer(remainder='passthrough',\n",
       "                  transformers=[('num_mean', SimpleImputer(),\n",
       "                                 ['screen_size', 'screen_area',\n",
       "                                  'screen_to_body_ratio', 'screen_resolution',\n",
       "                                  'rear_camera', 'front_camera',\n",
       "                                  'internal_memory', 'cpu', 'weight', 'length',\n",
       "                                  'width', 'battery_mah']),\n",
       "                                ('num_median', SimpleImputer(strategy='median'),\n",
       "                                 ['external_memory', 'battery_removable',\n",
       "                                  '_4G']),\n",
       "                                ('categorical',\n",
       "                                 Pipeline(steps=[('simpleimputer',\n",
       "                                                  SimpleImputer(strategy='most_frequent')),\n",
       "                                                 ('onehotencoder',\n",
       "                                                  OneHotEncoder(handle_unknown='ignore'))]),\n",
       "                                 ['brand', 'technology', 'os',\n",
       "                                  'battery_type'])])</pre></div></div></div><div class=\"sk-parallel\"><div class=\"sk-parallel-item\"><div class=\"sk-item\"><div class=\"sk-label-container\"><div class=\"sk-label sk-toggleable\"><input class=\"sk-toggleable__control sk-hidden--visually\" id=\"f1402ad3-6d2f-4d3f-9157-6c6019bd5352\" type=\"checkbox\" ><label class=\"sk-toggleable__label\" for=\"f1402ad3-6d2f-4d3f-9157-6c6019bd5352\">num_mean</label><div class=\"sk-toggleable__content\"><pre>['screen_size', 'screen_area', 'screen_to_body_ratio', 'screen_resolution', 'rear_camera', 'front_camera', 'internal_memory', 'cpu', 'weight', 'length', 'width', 'battery_mah']</pre></div></div></div><div class=\"sk-serial\"><div class=\"sk-item\"><div class=\"sk-estimator sk-toggleable\"><input class=\"sk-toggleable__control sk-hidden--visually\" id=\"14c96055-b1e6-4bf6-8d71-83ffffe5e4e4\" type=\"checkbox\" ><label class=\"sk-toggleable__label\" for=\"14c96055-b1e6-4bf6-8d71-83ffffe5e4e4\">SimpleImputer</label><div class=\"sk-toggleable__content\"><pre>SimpleImputer()</pre></div></div></div></div></div></div><div class=\"sk-parallel-item\"><div class=\"sk-item\"><div class=\"sk-label-container\"><div class=\"sk-label sk-toggleable\"><input class=\"sk-toggleable__control sk-hidden--visually\" id=\"f0cc47ad-80c2-4cdb-9346-fa2b06d4a590\" type=\"checkbox\" ><label class=\"sk-toggleable__label\" for=\"f0cc47ad-80c2-4cdb-9346-fa2b06d4a590\">num_median</label><div class=\"sk-toggleable__content\"><pre>['external_memory', 'battery_removable', '_4G']</pre></div></div></div><div class=\"sk-serial\"><div class=\"sk-item\"><div class=\"sk-estimator sk-toggleable\"><input class=\"sk-toggleable__control sk-hidden--visually\" id=\"b5f59767-3e7b-4acb-ac3a-c1f61936b20e\" type=\"checkbox\" ><label class=\"sk-toggleable__label\" for=\"b5f59767-3e7b-4acb-ac3a-c1f61936b20e\">SimpleImputer</label><div class=\"sk-toggleable__content\"><pre>SimpleImputer(strategy='median')</pre></div></div></div></div></div></div><div class=\"sk-parallel-item\"><div class=\"sk-item\"><div class=\"sk-label-container\"><div class=\"sk-label sk-toggleable\"><input class=\"sk-toggleable__control sk-hidden--visually\" id=\"8fd47bc8-816f-4aa7-8f3f-a6774b178bd6\" type=\"checkbox\" ><label class=\"sk-toggleable__label\" for=\"8fd47bc8-816f-4aa7-8f3f-a6774b178bd6\">categorical</label><div class=\"sk-toggleable__content\"><pre>['brand', 'technology', 'os', 'battery_type']</pre></div></div></div><div class=\"sk-serial\"><div class=\"sk-item\"><div class=\"sk-serial\"><div class=\"sk-item\"><div class=\"sk-estimator sk-toggleable\"><input class=\"sk-toggleable__control sk-hidden--visually\" id=\"133abecb-0465-446c-ad01-7c0965f4122a\" type=\"checkbox\" ><label class=\"sk-toggleable__label\" for=\"133abecb-0465-446c-ad01-7c0965f4122a\">SimpleImputer</label><div class=\"sk-toggleable__content\"><pre>SimpleImputer(strategy='most_frequent')</pre></div></div></div><div class=\"sk-item\"><div class=\"sk-estimator sk-toggleable\"><input class=\"sk-toggleable__control sk-hidden--visually\" id=\"ecd3e0a0-c4f3-4a24-ade4-3cc7d71f8689\" type=\"checkbox\" ><label class=\"sk-toggleable__label\" for=\"ecd3e0a0-c4f3-4a24-ade4-3cc7d71f8689\">OneHotEncoder</label><div class=\"sk-toggleable__content\"><pre>OneHotEncoder(handle_unknown='ignore')</pre></div></div></div></div></div></div></div></div></div></div><div class=\"sk-item\"><div class=\"sk-estimator sk-toggleable\"><input class=\"sk-toggleable__control sk-hidden--visually\" id=\"9a856319-666c-4d8e-ab05-a4a8557d8006\" type=\"checkbox\" ><label class=\"sk-toggleable__label\" for=\"9a856319-666c-4d8e-ab05-a4a8557d8006\">StandardScaler</label><div class=\"sk-toggleable__content\"><pre>StandardScaler()</pre></div></div></div></div></div></div></div>"
      ],
      "text/plain": [
       "Pipeline(steps=[('coladderdropper-1', ColAdderDropper()),\n",
       "                ('coladderdropper-2', ColAdderDropper(col_name='technology')),\n",
       "                ('coladderdropper-3', ColAdderDropper(col_name='os')),\n",
       "                ('columntransformer',\n",
       "                 ColumnTransformer(remainder='passthrough',\n",
       "                                   transformers=[('num_mean', SimpleImputer(),\n",
       "                                                  ['screen_size', 'screen_area',\n",
       "                                                   'screen_to_body_ratio',\n",
       "                                                   'screen_resolution',\n",
       "                                                   're...\n",
       "                                                   'weight', 'length', 'width',\n",
       "                                                   'battery_mah']),\n",
       "                                                 ('num_median',\n",
       "                                                  SimpleImputer(strategy='median'),\n",
       "                                                  ['external_memory',\n",
       "                                                   'battery_removable',\n",
       "                                                   '_4G']),\n",
       "                                                 ('categorical',\n",
       "                                                  Pipeline(steps=[('simpleimputer',\n",
       "                                                                   SimpleImputer(strategy='most_frequent')),\n",
       "                                                                  ('onehotencoder',\n",
       "                                                                   OneHotEncoder(handle_unknown='ignore'))]),\n",
       "                                                  ['brand', 'technology', 'os',\n",
       "                                                   'battery_type'])])),\n",
       "                ('standardscaler', StandardScaler())])"
      ]
     },
     "execution_count": 29,
     "metadata": {},
     "output_type": "execute_result"
    }
   ],
   "source": [
    "num_mean_cols = ['screen_size', 'screen_area', 'screen_to_body_ratio', 'screen_resolution', 'rear_camera',\n",
    "            'front_camera', 'internal_memory', 'cpu', 'weight', 'length', 'width', 'battery_mah']\n",
    "num_median_cols = ['external_memory', 'battery_removable', '_4G']\n",
    "unorder_cate_cols = ['brand', 'technology', 'os', 'battery_type']\n",
    "imp_mean = SimpleImputer(strategy='mean')\n",
    "imp_median = SimpleImputer(strategy='median')\n",
    "imp_mode = SimpleImputer(strategy = 'most_frequent')\n",
    "\n",
    "enc = OneHotEncoder(handle_unknown='ignore')\n",
    "col_brand = ColAdderDropper(col_name = 'brand')\n",
    "col_technology = ColAdderDropper(col_name = 'technology')\n",
    "col_os = ColAdderDropper(col_name = 'os')\n",
    "unorder_cate_transformer = make_pipeline(imp_mode, enc)\n",
    "\n",
    "column_trans = ColumnTransformer(transformers = [('num_mean', imp_mean, num_mean_cols),\n",
    "                                                 ('num_median', imp_median, num_median_cols),\n",
    "                                                 ('categorical', unorder_cate_transformer, \n",
    "                                                  unorder_cate_cols)], remainder = 'passthrough')\n",
    "preprocess_pipeline = make_pipeline(col_brand, col_technology, col_os, column_trans, StandardScaler())\n",
    "preprocess_pipeline"
   ]
  },
  {
   "cell_type": "markdown",
   "metadata": {},
   "source": [
    "### Tiền xử lý + Mô hình hóa"
   ]
  },
  {
   "cell_type": "markdown",
   "metadata": {},
   "source": [
    "#### Mô hình Random Forest\n",
    "- Tạo `full_pipeline` gồm các bước tiền xử lý ở trên + Random Forest (với các siêu tham số `n_estimators = 1, random_state = 0, verbose = 1, max_features = 0.3, min_samples_leaf = 3, max_depth = 10`)\n",
    "- Thử nghiệm mô hình với các siêu tham số: \n",
    "    - `n_estimators` với các giá trị từ 1, 6, 11,..., 100\n",
    "    - `num_top_titles` với 6 giá trị: 1, 3, 5, 7, 9, 11"
   ]
  },
  {
   "cell_type": "code",
   "execution_count": 30,
   "metadata": {},
   "outputs": [
    {
     "name": "stdout",
     "output_type": "stream",
     "text": [
      "n_estimators:  1\n",
      "0.7148175725986597 0.5773809523809523\n",
      "n_estimators:  1\n",
      "0.7125837676842889 0.5952380952380952\n",
      "n_estimators:  1\n",
      "0.7137006701414743 0.6071428571428571\n",
      "n_estimators:  1\n",
      "0.7062546537602383 0.625\n",
      "n_estimators:  1\n",
      "0.7211466865227103 0.6101190476190477\n",
      "n_estimators:  1\n",
      "0.7244973938942666 0.6547619047619048\n",
      "\n",
      "n_estimators:  6\n",
      "0.8306031273268801 0.6607142857142857\n",
      "n_estimators:  6\n",
      "0.8153387937453462 0.6681547619047619\n",
      "n_estimators:  6\n",
      "0.8287416232315711 0.6458333333333334\n",
      "n_estimators:  6\n",
      "0.8198064035740878 0.6711309523809523\n",
      "n_estimators:  6\n",
      "0.8343261355174981 0.6681547619047619\n",
      "n_estimators:  6\n",
      "0.8112434847356664 0.6770833333333334\n",
      "\n",
      "n_estimators:  11\n",
      "0.840282948622487 0.65625\n",
      "n_estimators:  11\n",
      "0.840282948622487 0.6666666666666666\n",
      "n_estimators:  11\n",
      "0.8387937453462397 0.6770833333333334\n",
      "n_estimators:  11\n",
      "0.8391660461653015 0.6755952380952381\n",
      "n_estimators:  11\n",
      "0.8484735666418466 0.6815476190476191\n",
      "n_estimators:  11\n",
      "0.8346984363365599 0.6934523809523809\n",
      "\n",
      "n_estimators:  16\n",
      "0.8384214445271779 0.6755952380952381\n",
      "n_estimators:  16\n",
      "0.842144452717796 0.6711309523809523\n",
      "n_estimators:  16\n",
      "0.8428890543559195 0.6845238095238095\n",
      "n_estimators:  16\n",
      "0.8454951600893522 0.6860119047619048\n",
      "n_estimators:  16\n",
      "0.8525688756515264 0.6815476190476191\n",
      "n_estimators:  16\n",
      "0.8417721518987342 0.7053571428571429\n",
      "\n",
      "n_estimators:  21\n",
      "0.8436336559940432 0.6815476190476191\n",
      "n_estimators:  21\n",
      "0.8507073715562175 0.6815476190476191\n",
      "n_estimators:  21\n",
      "0.8492181682799702 0.6889880952380952\n",
      "n_estimators:  21\n",
      "0.8540580789277736 0.6964285714285714\n",
      "n_estimators:  21\n",
      "0.8588979895755771 0.6800595238095238\n",
      "n_estimators:  21\n",
      "0.8432613551749814 0.7127976190476191\n",
      "\n",
      "n_estimators:  26\n",
      "0.8499627699180938 0.6860119047619048\n",
      "n_estimators:  26\n",
      "0.8473566641846612 0.6904761904761905\n",
      "n_estimators:  26\n",
      "0.8514519731943411 0.6949404761904762\n",
      "n_estimators:  26\n",
      "0.8521965748324646 0.6979166666666666\n",
      "n_estimators:  26\n",
      "0.8600148920327625 0.6815476190476191\n",
      "n_estimators:  26\n",
      "0.847728965003723 0.7142857142857143\n",
      "\n",
      "n_estimators:  31\n",
      "0.8492181682799702 0.6741071428571429\n",
      "n_estimators:  31\n",
      "0.849590469099032 0.6815476190476191\n",
      "n_estimators:  31\n",
      "0.8529411764705882 0.6979166666666666\n",
      "n_estimators:  31\n",
      "0.8581533879374534 0.6919642857142857\n",
      "n_estimators:  31\n",
      "0.8655994043186895 0.6860119047619048\n",
      "n_estimators:  31\n",
      "0.8492181682799702 0.7098214285714286\n",
      "\n",
      "n_estimators:  36\n",
      "0.8499627699180938 0.6785714285714286\n",
      "n_estimators:  36\n",
      "0.8499627699180938 0.6875\n",
      "n_estimators:  36\n",
      "0.8518242740134029 0.6919642857142857\n",
      "n_estimators:  36\n",
      "0.8540580789277736 0.6904761904761905\n",
      "n_estimators:  36\n",
      "0.8652271034996277 0.6875\n",
      "n_estimators:  36\n",
      "0.8481012658227848 0.7038690476190477\n",
      "\n",
      "n_estimators:  41\n",
      "0.8492181682799702 0.6755952380952381\n",
      "n_estimators:  41\n",
      "0.8507073715562175 0.6830357142857143\n",
      "n_estimators:  41\n",
      "0.8540580789277736 0.6979166666666666\n",
      "n_estimators:  41\n",
      "0.8562918838421445 0.6889880952380952\n",
      "n_estimators:  41\n",
      "0.8667163067758749 0.6889880952380952\n",
      "n_estimators:  41\n",
      "0.8503350707371556 0.7053571428571429\n",
      "\n",
      "n_estimators:  46\n",
      "0.8492181682799702 0.6726190476190477\n",
      "n_estimators:  46\n",
      "0.8447505584512286 0.6800595238095238\n",
      "n_estimators:  46\n",
      "0.8588979895755771 0.6994047619047619\n",
      "n_estimators:  46\n",
      "0.8559195830230827 0.6889880952380952\n",
      "n_estimators:  46\n",
      "0.8644825018615041 0.6875\n",
      "n_estimators:  46\n",
      "0.8510796723752793 0.7068452380952381\n",
      "\n",
      "n_estimators:  51\n",
      "0.8510796723752793 0.6681547619047619\n",
      "n_estimators:  51\n",
      "0.8447505584512286 0.6785714285714286\n",
      "n_estimators:  51\n",
      "0.8566641846612063 0.6979166666666666\n",
      "n_estimators:  51\n",
      "0.8562918838421445 0.6860119047619048\n",
      "n_estimators:  51\n",
      "0.8641102010424423 0.6904761904761905\n",
      "n_estimators:  51\n",
      "0.8514519731943411 0.7008928571428571\n",
      "\n",
      "n_estimators:  56\n",
      "0.8510796723752793 0.6681547619047619\n",
      "n_estimators:  56\n",
      "0.844005956813105 0.6815476190476191\n",
      "n_estimators:  56\n",
      "0.8566641846612063 0.6889880952380952\n",
      "n_estimators:  56\n",
      "0.8544303797468354 0.6889880952380952\n",
      "n_estimators:  56\n",
      "0.8670886075949367 0.6845238095238095\n",
      "n_estimators:  56\n",
      "0.8544303797468354 0.7038690476190477\n",
      "\n",
      "n_estimators:  61\n",
      "0.8559195830230827 0.6711309523809523\n",
      "n_estimators:  61\n",
      "0.8466120625465376 0.6800595238095238\n",
      "n_estimators:  61\n",
      "0.8555472822040209 0.6904761904761905\n",
      "n_estimators:  61\n",
      "0.8544303797468354 0.6875\n",
      "n_estimators:  61\n",
      "0.8674609084139985 0.6860119047619048\n",
      "n_estimators:  61\n",
      "0.8544303797468354 0.7008928571428571\n",
      "\n",
      "n_estimators:  66\n",
      "0.8518242740134029 0.6741071428571429\n",
      "n_estimators:  66\n",
      "0.8488458674609084 0.6815476190476191\n",
      "n_estimators:  66\n",
      "0.8562918838421445 0.6815476190476191\n",
      "n_estimators:  66\n",
      "0.8551749813849591 0.6860119047619048\n",
      "n_estimators:  66\n",
      "0.8663440059568132 0.6830357142857143\n",
      "n_estimators:  66\n",
      "0.8559195830230827 0.7023809523809523\n",
      "\n",
      "n_estimators:  71\n",
      "0.8518242740134029 0.6770833333333334\n",
      "n_estimators:  71\n",
      "0.8503350707371556 0.6815476190476191\n",
      "n_estimators:  71\n",
      "0.8581533879374534 0.6860119047619048\n",
      "n_estimators:  71\n",
      "0.8577810871183916 0.6860119047619048\n",
      "n_estimators:  71\n",
      "0.8667163067758749 0.6875\n",
      "n_estimators:  71\n",
      "0.8540580789277736 0.7068452380952381\n",
      "\n",
      "n_estimators:  76\n",
      "0.8518242740134029 0.6785714285714286\n",
      "n_estimators:  76\n",
      "0.8507073715562175 0.6860119047619048\n",
      "n_estimators:  76\n",
      "0.8600148920327625 0.6815476190476191\n",
      "n_estimators:  76\n",
      "0.8562918838421445 0.6860119047619048\n",
      "n_estimators:  76\n",
      "0.8655994043186895 0.6889880952380952\n",
      "n_estimators:  76\n",
      "0.8562918838421445 0.7008928571428571\n",
      "\n",
      "n_estimators:  81\n",
      "0.8514519731943411 0.6755952380952381\n",
      "n_estimators:  81\n",
      "0.8507073715562175 0.6830357142857143\n",
      "n_estimators:  81\n",
      "0.8596425912137007 0.6800595238095238\n",
      "n_estimators:  81\n",
      "0.8585256887565152 0.6845238095238095\n",
      "n_estimators:  81\n",
      "0.862620997766195 0.6845238095238095\n",
      "n_estimators:  81\n",
      "0.8551749813849591 0.6979166666666666\n",
      "\n",
      "n_estimators:  86\n",
      "0.8525688756515264 0.6815476190476191\n",
      "n_estimators:  86\n",
      "0.8499627699180938 0.6860119047619048\n",
      "n_estimators:  86\n",
      "0.8611317944899479 0.6845238095238095\n",
      "n_estimators:  86\n",
      "0.8574087862993298 0.6919642857142857\n",
      "n_estimators:  86\n",
      "0.8629932985852569 0.6860119047619048\n",
      "n_estimators:  86\n",
      "0.8574087862993298 0.6964285714285714\n",
      "\n",
      "n_estimators:  91\n",
      "0.8521965748324646 0.6800595238095238\n",
      "n_estimators:  91\n",
      "0.8484735666418466 0.6845238095238095\n",
      "n_estimators:  91\n",
      "0.8611317944899479 0.6860119047619048\n",
      "n_estimators:  91\n",
      "0.8577810871183916 0.6934523809523809\n",
      "n_estimators:  91\n",
      "0.8622486969471332 0.6889880952380952\n",
      "n_estimators:  91\n",
      "0.8585256887565152 0.6979166666666666\n",
      "\n",
      "n_estimators:  96\n",
      "0.8525688756515264 0.6741071428571429\n",
      "n_estimators:  96\n",
      "0.8499627699180938 0.6845238095238095\n",
      "n_estimators:  96\n",
      "0.8603871928518243 0.6860119047619048\n",
      "n_estimators:  96\n",
      "0.8592702903946389 0.6979166666666666\n",
      "n_estimators:  96\n",
      "0.8603871928518243 0.6860119047619048\n",
      "n_estimators:  96\n",
      "0.8566641846612063 0.6949404761904762\n",
      "\n"
     ]
    }
   ],
   "source": [
    "rfregressor = RandomForestClassifier(n_estimators=1, random_state=0, verbose=1, max_features = 0.3, min_samples_leaf = 3, max_depth = 10)\n",
    "full_pipeline = Pipeline([('brand',col_brand),('technology', col_technology),('os' ,col_os),('trans', column_trans),('standard', StandardScaler()),('rfr', rfregressor)])\n",
    "\n",
    "full_pipeline.set_params(rfr__verbose = 0)\n",
    "rf_train_scores, rf_val_scores = [], []\n",
    "num_top_titles_s = [1, 3, 5, 7, 9, 11]\n",
    "best_n_estimators, best_val_score = 1, -float('inf')\n",
    "best_num_top_titles_rfc = None\n",
    "n_estimators = 1\n",
    "while (n_estimators < 100):\n",
    "    for num_top_titles in num_top_titles_s:\n",
    "        print('n_estimators: ',n_estimators)\n",
    "        full_pipeline.set_params(brand__num_top_titles = num_top_titles, technology__num_top_titles= num_top_titles, os__num_top_titles = num_top_titles, rfr__n_estimators = n_estimators)\n",
    "        full_pipeline.fit(train_X, train_y)\n",
    "        train_score = full_pipeline.score(train_X, train_y)\n",
    "        val_score = full_pipeline.score(val_X, val_y)\n",
    "        print(train_score, val_score)\n",
    "        rf_train_scores.append(train_score)\n",
    "        rf_val_scores.append(val_score)\n",
    "        if best_val_score < val_score:\n",
    "            best_val_score, best_n_estimators = val_score, n_estimators\n",
    "            best_num_top_titles_rfc = num_top_titles\n",
    "    n_estimators += 5\n",
    "    print()"
   ]
  },
  {
   "cell_type": "code",
   "execution_count": 31,
   "metadata": {},
   "outputs": [
    {
     "data": {
      "text/plain": [
       "26"
      ]
     },
     "execution_count": 31,
     "metadata": {},
     "output_type": "execute_result"
    }
   ],
   "source": [
    "best_n_estimators"
   ]
  },
  {
   "cell_type": "code",
   "execution_count": 32,
   "metadata": {},
   "outputs": [
    {
     "data": {
      "text/plain": [
       "11"
      ]
     },
     "execution_count": 32,
     "metadata": {},
     "output_type": "execute_result"
    }
   ],
   "source": [
    "\n",
    "best_num_top_titles_rfc"
   ]
  },
  {
   "cell_type": "code",
   "execution_count": 33,
   "metadata": {},
   "outputs": [
    {
     "data": {
      "text/plain": [
       "0.7142857142857143"
      ]
     },
     "execution_count": 33,
     "metadata": {},
     "output_type": "execute_result"
    }
   ],
   "source": [
    "\n",
    "best_val_score"
   ]
  },
  {
   "cell_type": "markdown",
   "metadata": {},
   "source": [
    "#### Mô hình SVC\n",
    "- Tạo `full_pipeline` gồm các bước tiền xử lý ở trên + SVC (với các siêu tham số `C = 1, random_state = 1, probability = True, decision_function_shape = ovo`)\n",
    "- Thử nghiệm mô hình với các siêu tham số: \n",
    "    - `num_top_titles` với 6 giá trị: 1, 3, 5, 7, 9, 11"
   ]
  },
  {
   "cell_type": "code",
   "execution_count": 34,
   "metadata": {},
   "outputs": [
    {
     "name": "stdout",
     "output_type": "stream",
     "text": [
      "1\n",
      "0.637379002233805 0.6056547619047619\n",
      "\n",
      "3\n",
      "0.6556217423678332 0.6235119047619048\n",
      "\n",
      "5\n",
      "0.676842889054356 0.6502976190476191\n",
      "\n",
      "7\n",
      "0.6809381980640358 0.6532738095238095\n",
      "\n",
      "9\n",
      "0.6787043931496649 0.6473214285714286\n",
      "\n",
      "11\n",
      "0.684288905435592 0.6398809523809523\n",
      "\n"
     ]
    }
   ],
   "source": [
    "\n",
    "svc = SVC(kernel='linear', C=1, random_state = 1 , probability= True, decision_function_shape = 'ovo')\n",
    "\n",
    "full_pipeline = Pipeline([('brand',col_brand),('technology', col_technology),('os' ,col_os),('trans', column_trans),('standard', StandardScaler()),('svc',svc)])\n",
    "\n",
    "svc_train_scores, svc_val_scores = [], []\n",
    "num_top_titles_s = [1,3,5,7,9,11]\n",
    "best_val_score = -float('inf')\n",
    "best_num_top_titles_svc = None\n",
    "\n",
    "\n",
    "for num_top_titles in num_top_titles_s:\n",
    "    print(num_top_titles)\n",
    "    full_pipeline.set_params(brand__num_top_titles = num_top_titles, technology__num_top_titles= num_top_titles, os__num_top_titles = num_top_titles)\n",
    "    full_pipeline.fit(train_X, train_y)\n",
    "    train_score = full_pipeline.score(train_X, train_y)\n",
    "    val_score = full_pipeline.score(val_X, val_y)\n",
    "    print(train_score, val_score)\n",
    "    svc_train_scores.append(train_score)\n",
    "    svc_val_scores.append(val_score)\n",
    "    if best_val_score < val_score:\n",
    "        best_val_score = val_score\n",
    "        best_num_top_titles_svc = num_top_titles\n",
    "    print()"
   ]
  },
  {
   "cell_type": "code",
   "execution_count": 35,
   "metadata": {},
   "outputs": [
    {
     "data": {
      "text/plain": [
       "0.6532738095238095"
      ]
     },
     "execution_count": 35,
     "metadata": {},
     "output_type": "execute_result"
    }
   ],
   "source": [
    "best_val_score"
   ]
  },
  {
   "cell_type": "code",
   "execution_count": 36,
   "metadata": {},
   "outputs": [
    {
     "data": {
      "text/plain": [
       "7"
      ]
     },
     "execution_count": 36,
     "metadata": {},
     "output_type": "execute_result"
    }
   ],
   "source": [
    "best_num_top_titles_svc"
   ]
  },
  {
   "cell_type": "markdown",
   "metadata": {},
   "source": [
    "#### Mô hình Neural Network\n",
    "- Tạo `full_pipeline` gồm các bước tiền xử lý ở trên + Neural Network (với các siêu tham số `hidden_layer_sizes = (128) hoặc = (256, 128), solver = adam, learning_rate = adaptive, random_state = 0, max_iter = 500, early_stopping = True, verbose = 0`)\n",
    "- Thử nghiệm mô hình với các siêu tham số: \n",
    "    - `alpha` với 5 giá trị: 0.1, 1, 10, 100, 1000\n",
    "    - `num_top_titles` với 6 giá trị: 1, 3, 5, 7, 9, 11"
   ]
  },
  {
   "cell_type": "code",
   "execution_count": 37,
   "metadata": {},
   "outputs": [
    {
     "name": "stdout",
     "output_type": "stream",
     "text": [
      "0.6827997021593447 0.6294642857142857\n",
      "\n",
      "0.6895011169024572 0.6383928571428571\n",
      "\n",
      "0.6969471332836932 0.65625\n",
      "\n",
      "0.6891288160833954 0.6666666666666666\n",
      "\n",
      "0.7096053611317945 0.6651785714285714\n",
      "\n",
      "0.7356664184661206 0.6651785714285714\n",
      "\n",
      "0.6757259865971705 0.6130952380952381\n",
      "\n",
      "0.6567386448250186 0.6264880952380952\n",
      "\n",
      "0.6865227103499628 0.6636904761904762\n",
      "\n",
      "0.6827997021593447 0.6607142857142857\n",
      "\n",
      "0.7073715562174236 0.6651785714285714\n",
      "\n",
      "0.6932241250930752 0.6547619047619048\n",
      "\n",
      "0.6154132539091586 0.5922619047619048\n",
      "\n",
      "0.616530156366344 0.6101190476190477\n",
      "\n",
      "0.6392405063291139 0.6235119047619048\n",
      "\n",
      "0.6355174981384959 0.6160714285714286\n",
      "\n",
      "0.6574832464631423 0.6264880952380952\n",
      "\n",
      "0.6254653760238272 0.6071428571428571\n",
      "\n",
      "0.5666418466120625 0.5580357142857143\n",
      "\n",
      "0.5454206999255399 0.5610119047619048\n",
      "\n",
      "0.5428145941921072 0.5386904761904762\n",
      "\n",
      "0.5595681310498883 0.5223214285714286\n",
      "\n",
      "0.5930752047654505 0.5863095238095238\n",
      "\n",
      "0.5551005212211467 0.5386904761904762\n",
      "\n",
      "0.4973938942665674 0.5029761904761905\n",
      "\n",
      "0.46649292628443784 0.49107142857142855\n",
      "\n",
      "0.462397617274758 0.45089285714285715\n",
      "\n",
      "0.4482501861504095 0.42857142857142855\n",
      "\n",
      "0.43857036485480266 0.4642857142857143\n",
      "\n",
      "0.5078183172002978 0.4955357142857143\n",
      "\n"
     ]
    }
   ],
   "source": [
    "mlpclassifier = MLPClassifier(hidden_layer_sizes=(128), solver='adam', learning_rate='adaptive'\\\n",
    "                            ,random_state=0, max_iter=500, early_stopping=True, verbose=0)\n",
    "full_pipeline = Pipeline([('brand',col_brand),('technology', col_technology),('os' ,col_os),('trans', column_trans),('standard', StandardScaler()),('mlp', mlpclassifier)])\n",
    "\n",
    "mlp_train_scores = []\n",
    "mlp_val_scores = []\n",
    "alphas = [0.1, 1, 10, 100, 1000]\n",
    "num_top_titles_s = [1, 3, 5, 7, 9, 11]\n",
    "best_val_score = -float('inf'); best_alpha = None; best_num_top_titles_mlp1 = None\n",
    "for alpha in alphas:\n",
    "    for num_top_titles in num_top_titles_s:\n",
    "        full_pipeline.set_params(brand__num_top_titles = num_top_titles, technology__num_top_titles= num_top_titles, os__num_top_titles = num_top_titles, mlp__alpha = alpha)\n",
    "        full_pipeline.fit(train_X, train_y)\n",
    "        train_score = full_pipeline.score(train_X, train_y)\n",
    "        val_score = full_pipeline.score(val_X, val_y)\n",
    "        print(train_score, val_score)\n",
    "        mlp_train_scores.append(train_score)\n",
    "        mlp_val_scores.append(val_score)\n",
    "        if (best_val_score < val_score):\n",
    "            best_val_score = val_score\n",
    "            best_alpha = alpha\n",
    "            best_num_top_titles_mlp1 = num_top_titles\n",
    "        print()"
   ]
  },
  {
   "cell_type": "code",
   "execution_count": 38,
   "metadata": {},
   "outputs": [
    {
     "data": {
      "text/plain": [
       "0.6666666666666666"
      ]
     },
     "execution_count": 38,
     "metadata": {},
     "output_type": "execute_result"
    }
   ],
   "source": [
    "best_val_score"
   ]
  },
  {
   "cell_type": "code",
   "execution_count": 39,
   "metadata": {},
   "outputs": [
    {
     "data": {
      "text/plain": [
       "7"
      ]
     },
     "execution_count": 39,
     "metadata": {},
     "output_type": "execute_result"
    }
   ],
   "source": [
    "best_num_top_titles_mlp1"
   ]
  },
  {
   "cell_type": "code",
   "execution_count": 40,
   "metadata": {},
   "outputs": [
    {
     "name": "stdout",
     "output_type": "stream",
     "text": [
      "0.695457930007446 0.6101190476190477\n",
      "\n",
      "0.7419955323901712 0.6502976190476191\n",
      "\n",
      "0.7851824274013403 0.6547619047619048\n",
      "\n",
      "0.7129560685033507 0.6651785714285714\n",
      "\n",
      "0.7338049143708116 0.6696428571428571\n",
      "\n",
      "0.7822040208488459 0.6681547619047619\n",
      "\n",
      "0.695457930007446 0.6473214285714286\n",
      "\n",
      "0.6947133283693224 0.6443452380952381\n",
      "\n",
      "0.7401340282948623 0.6681547619047619\n",
      "\n",
      "0.723752792256143 0.6577380952380952\n",
      "\n",
      "0.7308265078183172 0.6607142857142857\n",
      "\n",
      "0.7386448250186151 0.6696428571428571\n",
      "\n",
      "0.6102010424422933 0.5952380952380952\n",
      "\n",
      "0.6183916604616531 0.5997023809523809\n",
      "\n",
      "0.6448250186150409 0.6294642857142857\n",
      "\n",
      "0.6448250186150409 0.6235119047619048\n",
      "\n",
      "0.6396128071481757 0.6086309523809523\n",
      "\n",
      "0.6530156366344005 0.6339285714285714\n",
      "\n",
      "0.539463886820551 0.5282738095238095\n",
      "\n",
      "0.5722263588979896 0.5446428571428571\n",
      "\n",
      "0.5271779597915115 0.5357142857142857\n",
      "\n",
      "0.5245718540580789 0.5148809523809523\n",
      "\n",
      "0.5256887565152644 0.49851190476190477\n",
      "\n",
      "0.54132539091586 0.5238095238095238\n",
      "\n",
      "0.5223380491437081 0.5\n",
      "\n",
      "0.4441548771407297 0.4181547619047619\n",
      "\n",
      "0.4180938198064036 0.4166666666666667\n",
      "\n",
      "0.4847356664184661 0.48214285714285715\n",
      "\n",
      "0.4292628443782576 0.4330357142857143\n",
      "\n",
      "0.48175725986597173 0.46726190476190477\n",
      "\n"
     ]
    }
   ],
   "source": [
    "mlpclassifier = MLPClassifier(hidden_layer_sizes=(256, 128), solver='adam', learning_rate='adaptive'\\\n",
    "                            ,random_state=0, max_iter=500, early_stopping=True, verbose=0)\n",
    "full_pipeline = Pipeline([('brand',col_brand),('technology', col_technology),('os' ,col_os),('trans', column_trans),('standard', StandardScaler()),('mlp', mlpclassifier)])\n",
    "\n",
    "mlp_train_scores = []\n",
    "mlp_val_scores = []\n",
    "alphas = [0.1, 1, 10, 100, 1000]\n",
    "num_top_titles_s = [1, 3, 5, 7, 9, 11]\n",
    "best_val_score = -float('inf'); best_alpha = None; best_num_top_titles_mlp2 = None\n",
    "for alpha in alphas:\n",
    "    for num_top_titles in num_top_titles_s:\n",
    "        full_pipeline.set_params(brand__num_top_titles = num_top_titles, technology__num_top_titles= num_top_titles, os__num_top_titles = num_top_titles, mlp__alpha = alpha)\n",
    "        full_pipeline.fit(train_X, train_y)\n",
    "        train_score = full_pipeline.score(train_X, train_y)\n",
    "        val_score = full_pipeline.score(val_X, val_y)\n",
    "        print(train_score, val_score)\n",
    "        mlp_train_scores.append(train_score)\n",
    "        mlp_val_scores.append(val_score)\n",
    "        if (best_val_score < val_score):\n",
    "            best_val_score = val_score\n",
    "            best_alpha = alpha\n",
    "            best_num_top_titles_mlp2 = num_top_titles\n",
    "        print()"
   ]
  },
  {
   "cell_type": "code",
   "execution_count": 41,
   "metadata": {},
   "outputs": [
    {
     "data": {
      "text/plain": [
       "0.6696428571428571"
      ]
     },
     "execution_count": 41,
     "metadata": {},
     "output_type": "execute_result"
    }
   ],
   "source": [
    "best_val_score"
   ]
  },
  {
   "cell_type": "code",
   "execution_count": 42,
   "metadata": {},
   "outputs": [
    {
     "data": {
      "text/plain": [
       "9"
      ]
     },
     "execution_count": 42,
     "metadata": {},
     "output_type": "execute_result"
    }
   ],
   "source": [
    "best_num_top_titles_mlp2"
   ]
  },
  {
   "cell_type": "markdown",
   "metadata": {},
   "source": [
    "#### Lấy mô hình tốt nhất để train cho toàn tập train + validation"
   ]
  },
  {
   "cell_type": "code",
   "execution_count": 43,
   "metadata": {},
   "outputs": [],
   "source": [
    "rfregressor = RandomForestClassifier(n_estimators=1, random_state=0, verbose=1, max_features = 0.3, min_samples_leaf = 3, max_depth = 10)\n",
    "full_pipeline = Pipeline([('brand',col_brand),('technology', col_technology),('os' ,col_os),('trans', column_trans),('standard', StandardScaler()),('rfr', rfregressor)])"
   ]
  },
  {
   "cell_type": "code",
   "execution_count": 44,
   "metadata": {},
   "outputs": [
    {
     "name": "stderr",
     "output_type": "stream",
     "text": [
      "[Parallel(n_jobs=1)]: Using backend SequentialBackend with 1 concurrent workers.\n",
      "[Parallel(n_jobs=1)]: Done  26 out of  26 | elapsed:    0.1s finished\n"
     ]
    },
    {
     "data": {
      "text/html": [
       "<style>div.sk-top-container {color: black;background-color: white;}div.sk-toggleable {background-color: white;}label.sk-toggleable__label {cursor: pointer;display: block;width: 100%;margin-bottom: 0;padding: 0.2em 0.3em;box-sizing: border-box;text-align: center;}div.sk-toggleable__content {max-height: 0;max-width: 0;overflow: hidden;text-align: left;background-color: #f0f8ff;}div.sk-toggleable__content pre {margin: 0.2em;color: black;border-radius: 0.25em;background-color: #f0f8ff;}input.sk-toggleable__control:checked~div.sk-toggleable__content {max-height: 200px;max-width: 100%;overflow: auto;}div.sk-estimator input.sk-toggleable__control:checked~label.sk-toggleable__label {background-color: #d4ebff;}div.sk-label input.sk-toggleable__control:checked~label.sk-toggleable__label {background-color: #d4ebff;}input.sk-hidden--visually {border: 0;clip: rect(1px 1px 1px 1px);clip: rect(1px, 1px, 1px, 1px);height: 1px;margin: -1px;overflow: hidden;padding: 0;position: absolute;width: 1px;}div.sk-estimator {font-family: monospace;background-color: #f0f8ff;margin: 0.25em 0.25em;border: 1px dotted black;border-radius: 0.25em;box-sizing: border-box;}div.sk-estimator:hover {background-color: #d4ebff;}div.sk-parallel-item::after {content: \"\";width: 100%;border-bottom: 1px solid gray;flex-grow: 1;}div.sk-label:hover label.sk-toggleable__label {background-color: #d4ebff;}div.sk-serial::before {content: \"\";position: absolute;border-left: 1px solid gray;box-sizing: border-box;top: 2em;bottom: 0;left: 50%;}div.sk-serial {display: flex;flex-direction: column;align-items: center;background-color: white;}div.sk-item {z-index: 1;}div.sk-parallel {display: flex;align-items: stretch;justify-content: center;background-color: white;}div.sk-parallel-item {display: flex;flex-direction: column;position: relative;background-color: white;}div.sk-parallel-item:first-child::after {align-self: flex-end;width: 50%;}div.sk-parallel-item:last-child::after {align-self: flex-start;width: 50%;}div.sk-parallel-item:only-child::after {width: 0;}div.sk-dashed-wrapped {border: 1px dashed gray;margin: 0.2em;box-sizing: border-box;padding-bottom: 0.1em;background-color: white;position: relative;}div.sk-label label {font-family: monospace;font-weight: bold;background-color: white;display: inline-block;line-height: 1.2em;}div.sk-label-container {position: relative;z-index: 2;text-align: center;}div.sk-container {display: inline-block;position: relative;}</style><div class=\"sk-top-container\"><div class=\"sk-container\"><div class=\"sk-item sk-dashed-wrapped\"><div class=\"sk-label-container\"><div class=\"sk-label sk-toggleable\"><input class=\"sk-toggleable__control sk-hidden--visually\" id=\"61dfbcc6-8ff9-4c4d-9f01-474a0727f30c\" type=\"checkbox\" ><label class=\"sk-toggleable__label\" for=\"61dfbcc6-8ff9-4c4d-9f01-474a0727f30c\">Pipeline</label><div class=\"sk-toggleable__content\"><pre>Pipeline(steps=[('brand', ColAdderDropper(num_top_titles=11)),\n",
       "                ('technology',\n",
       "                 ColAdderDropper(col_name='technology', num_top_titles=11)),\n",
       "                ('os', ColAdderDropper(col_name='os', num_top_titles=11)),\n",
       "                ('trans',\n",
       "                 ColumnTransformer(remainder='passthrough',\n",
       "                                   transformers=[('num_mean', SimpleImputer(),\n",
       "                                                  ['screen_size', 'screen_area',\n",
       "                                                   'screen_to_body_ratio',\n",
       "                                                   'screen_resoluti...\n",
       "                                                   '_4G']),\n",
       "                                                 ('categorical',\n",
       "                                                  Pipeline(steps=[('simpleimputer',\n",
       "                                                                   SimpleImputer(strategy='most_frequent')),\n",
       "                                                                  ('onehotencoder',\n",
       "                                                                   OneHotEncoder(handle_unknown='ignore'))]),\n",
       "                                                  ['brand', 'technology', 'os',\n",
       "                                                   'battery_type'])])),\n",
       "                ('standard', StandardScaler()),\n",
       "                ('rfr',\n",
       "                 RandomForestClassifier(max_depth=10, max_features=0.3,\n",
       "                                        min_samples_leaf=3, n_estimators=26,\n",
       "                                        random_state=0, verbose=1))])</pre></div></div></div><div class=\"sk-serial\"><div class=\"sk-item\"><div class=\"sk-estimator sk-toggleable\"><input class=\"sk-toggleable__control sk-hidden--visually\" id=\"0ef8129a-8c53-4b31-a162-d7023a5225e0\" type=\"checkbox\" ><label class=\"sk-toggleable__label\" for=\"0ef8129a-8c53-4b31-a162-d7023a5225e0\">ColAdderDropper</label><div class=\"sk-toggleable__content\"><pre>ColAdderDropper(num_top_titles=11)</pre></div></div></div><div class=\"sk-item\"><div class=\"sk-estimator sk-toggleable\"><input class=\"sk-toggleable__control sk-hidden--visually\" id=\"3adec606-8c69-429e-9fe6-5634c6cc9a5d\" type=\"checkbox\" ><label class=\"sk-toggleable__label\" for=\"3adec606-8c69-429e-9fe6-5634c6cc9a5d\">ColAdderDropper</label><div class=\"sk-toggleable__content\"><pre>ColAdderDropper(col_name='technology', num_top_titles=11)</pre></div></div></div><div class=\"sk-item\"><div class=\"sk-estimator sk-toggleable\"><input class=\"sk-toggleable__control sk-hidden--visually\" id=\"f4618de5-4f64-4de4-af85-1e40372df677\" type=\"checkbox\" ><label class=\"sk-toggleable__label\" for=\"f4618de5-4f64-4de4-af85-1e40372df677\">ColAdderDropper</label><div class=\"sk-toggleable__content\"><pre>ColAdderDropper(col_name='os', num_top_titles=11)</pre></div></div></div><div class=\"sk-item sk-dashed-wrapped\"><div class=\"sk-label-container\"><div class=\"sk-label sk-toggleable\"><input class=\"sk-toggleable__control sk-hidden--visually\" id=\"48466581-a7ab-415e-8c13-670f84c17ff7\" type=\"checkbox\" ><label class=\"sk-toggleable__label\" for=\"48466581-a7ab-415e-8c13-670f84c17ff7\">trans: ColumnTransformer</label><div class=\"sk-toggleable__content\"><pre>ColumnTransformer(remainder='passthrough',\n",
       "                  transformers=[('num_mean', SimpleImputer(),\n",
       "                                 ['screen_size', 'screen_area',\n",
       "                                  'screen_to_body_ratio', 'screen_resolution',\n",
       "                                  'rear_camera', 'front_camera',\n",
       "                                  'internal_memory', 'cpu', 'weight', 'length',\n",
       "                                  'width', 'battery_mah']),\n",
       "                                ('num_median', SimpleImputer(strategy='median'),\n",
       "                                 ['external_memory', 'battery_removable',\n",
       "                                  '_4G']),\n",
       "                                ('categorical',\n",
       "                                 Pipeline(steps=[('simpleimputer',\n",
       "                                                  SimpleImputer(strategy='most_frequent')),\n",
       "                                                 ('onehotencoder',\n",
       "                                                  OneHotEncoder(handle_unknown='ignore'))]),\n",
       "                                 ['brand', 'technology', 'os',\n",
       "                                  'battery_type'])])</pre></div></div></div><div class=\"sk-parallel\"><div class=\"sk-parallel-item\"><div class=\"sk-item\"><div class=\"sk-label-container\"><div class=\"sk-label sk-toggleable\"><input class=\"sk-toggleable__control sk-hidden--visually\" id=\"ddfda436-c68e-4f46-9395-29f56ad4414a\" type=\"checkbox\" ><label class=\"sk-toggleable__label\" for=\"ddfda436-c68e-4f46-9395-29f56ad4414a\">num_mean</label><div class=\"sk-toggleable__content\"><pre>['screen_size', 'screen_area', 'screen_to_body_ratio', 'screen_resolution', 'rear_camera', 'front_camera', 'internal_memory', 'cpu', 'weight', 'length', 'width', 'battery_mah']</pre></div></div></div><div class=\"sk-serial\"><div class=\"sk-item\"><div class=\"sk-estimator sk-toggleable\"><input class=\"sk-toggleable__control sk-hidden--visually\" id=\"6c3ca98f-27aa-4634-91c9-82a56d765b13\" type=\"checkbox\" ><label class=\"sk-toggleable__label\" for=\"6c3ca98f-27aa-4634-91c9-82a56d765b13\">SimpleImputer</label><div class=\"sk-toggleable__content\"><pre>SimpleImputer()</pre></div></div></div></div></div></div><div class=\"sk-parallel-item\"><div class=\"sk-item\"><div class=\"sk-label-container\"><div class=\"sk-label sk-toggleable\"><input class=\"sk-toggleable__control sk-hidden--visually\" id=\"cbb0536c-946b-463e-8e70-34f643fbc394\" type=\"checkbox\" ><label class=\"sk-toggleable__label\" for=\"cbb0536c-946b-463e-8e70-34f643fbc394\">num_median</label><div class=\"sk-toggleable__content\"><pre>['external_memory', 'battery_removable', '_4G']</pre></div></div></div><div class=\"sk-serial\"><div class=\"sk-item\"><div class=\"sk-estimator sk-toggleable\"><input class=\"sk-toggleable__control sk-hidden--visually\" id=\"d837222f-040b-438a-821d-448f73f11bd6\" type=\"checkbox\" ><label class=\"sk-toggleable__label\" for=\"d837222f-040b-438a-821d-448f73f11bd6\">SimpleImputer</label><div class=\"sk-toggleable__content\"><pre>SimpleImputer(strategy='median')</pre></div></div></div></div></div></div><div class=\"sk-parallel-item\"><div class=\"sk-item\"><div class=\"sk-label-container\"><div class=\"sk-label sk-toggleable\"><input class=\"sk-toggleable__control sk-hidden--visually\" id=\"115340ec-a106-4e76-b7c4-b7818236485e\" type=\"checkbox\" ><label class=\"sk-toggleable__label\" for=\"115340ec-a106-4e76-b7c4-b7818236485e\">categorical</label><div class=\"sk-toggleable__content\"><pre>['brand', 'technology', 'os', 'battery_type']</pre></div></div></div><div class=\"sk-serial\"><div class=\"sk-item\"><div class=\"sk-serial\"><div class=\"sk-item\"><div class=\"sk-estimator sk-toggleable\"><input class=\"sk-toggleable__control sk-hidden--visually\" id=\"19a84422-bdd7-4281-a902-cc89e5b39c14\" type=\"checkbox\" ><label class=\"sk-toggleable__label\" for=\"19a84422-bdd7-4281-a902-cc89e5b39c14\">SimpleImputer</label><div class=\"sk-toggleable__content\"><pre>SimpleImputer(strategy='most_frequent')</pre></div></div></div><div class=\"sk-item\"><div class=\"sk-estimator sk-toggleable\"><input class=\"sk-toggleable__control sk-hidden--visually\" id=\"0fba1c57-90c1-4038-80bb-4def14d55437\" type=\"checkbox\" ><label class=\"sk-toggleable__label\" for=\"0fba1c57-90c1-4038-80bb-4def14d55437\">OneHotEncoder</label><div class=\"sk-toggleable__content\"><pre>OneHotEncoder(handle_unknown='ignore')</pre></div></div></div></div></div></div></div></div></div></div><div class=\"sk-item\"><div class=\"sk-estimator sk-toggleable\"><input class=\"sk-toggleable__control sk-hidden--visually\" id=\"c5f0f14f-bd8d-470b-88b5-23ba6c82e8d1\" type=\"checkbox\" ><label class=\"sk-toggleable__label\" for=\"c5f0f14f-bd8d-470b-88b5-23ba6c82e8d1\">StandardScaler</label><div class=\"sk-toggleable__content\"><pre>StandardScaler()</pre></div></div></div><div class=\"sk-item\"><div class=\"sk-estimator sk-toggleable\"><input class=\"sk-toggleable__control sk-hidden--visually\" id=\"7a1bdf93-85b2-4bf6-93d0-70e4beefe39b\" type=\"checkbox\" ><label class=\"sk-toggleable__label\" for=\"7a1bdf93-85b2-4bf6-93d0-70e4beefe39b\">RandomForestClassifier</label><div class=\"sk-toggleable__content\"><pre>RandomForestClassifier(max_depth=10, max_features=0.3, min_samples_leaf=3,\n",
       "                       n_estimators=26, random_state=0, verbose=1)</pre></div></div></div></div></div></div></div>"
      ],
      "text/plain": [
       "Pipeline(steps=[('brand', ColAdderDropper(num_top_titles=11)),\n",
       "                ('technology',\n",
       "                 ColAdderDropper(col_name='technology', num_top_titles=11)),\n",
       "                ('os', ColAdderDropper(col_name='os', num_top_titles=11)),\n",
       "                ('trans',\n",
       "                 ColumnTransformer(remainder='passthrough',\n",
       "                                   transformers=[('num_mean', SimpleImputer(),\n",
       "                                                  ['screen_size', 'screen_area',\n",
       "                                                   'screen_to_body_ratio',\n",
       "                                                   'screen_resoluti...\n",
       "                                                   '_4G']),\n",
       "                                                 ('categorical',\n",
       "                                                  Pipeline(steps=[('simpleimputer',\n",
       "                                                                   SimpleImputer(strategy='most_frequent')),\n",
       "                                                                  ('onehotencoder',\n",
       "                                                                   OneHotEncoder(handle_unknown='ignore'))]),\n",
       "                                                  ['brand', 'technology', 'os',\n",
       "                                                   'battery_type'])])),\n",
       "                ('standard', StandardScaler()),\n",
       "                ('rfr',\n",
       "                 RandomForestClassifier(max_depth=10, max_features=0.3,\n",
       "                                        min_samples_leaf=3, n_estimators=26,\n",
       "                                        random_state=0, verbose=1))])"
      ]
     },
     "execution_count": 44,
     "metadata": {},
     "output_type": "execute_result"
    }
   ],
   "source": [
    "best_num_top_titles = 11\n",
    "full_pipeline.set_params(brand__num_top_titles = best_num_top_titles_rfc, technology__num_top_titles= best_num_top_titles_rfc, os__num_top_titles = best_num_top_titles_rfc, rfr__n_estimators = best_n_estimators)\n",
    "full_pipeline.fit(X, y)"
   ]
  },
  {
   "cell_type": "markdown",
   "metadata": {},
   "source": [
    "## Đánh giá mô hình tìm được"
   ]
  },
  {
   "cell_type": "code",
   "execution_count": 45,
   "metadata": {},
   "outputs": [],
   "source": [
    "test_X = pd.read_csv('test_X.csv')\n",
    "test_y = pd.read_csv('test_y.csv')"
   ]
  },
  {
   "cell_type": "code",
   "execution_count": 46,
   "metadata": {},
   "outputs": [
    {
     "name": "stderr",
     "output_type": "stream",
     "text": [
      "[Parallel(n_jobs=1)]: Using backend SequentialBackend with 1 concurrent workers.\n",
      "[Parallel(n_jobs=1)]: Done  26 out of  26 | elapsed:    0.0s finished\n"
     ]
    },
    {
     "data": {
      "text/plain": [
       "0.7416666666666667"
      ]
     },
     "execution_count": 46,
     "metadata": {},
     "output_type": "execute_result"
    }
   ],
   "source": [
    "full_pipeline.score(test_X, test_y)"
   ]
  }
 ],
 "metadata": {
  "kernelspec": {
   "display_name": "Python 3",
   "language": "python",
   "name": "python3"
  },
  "language_info": {
   "codemirror_mode": {
    "name": "ipython",
    "version": 3
   },
   "file_extension": ".py",
   "mimetype": "text/x-python",
   "name": "python",
   "nbconvert_exporter": "python",
   "pygments_lexer": "ipython3",
   "version": "3.8.3"
  }
 },
 "nbformat": 4,
 "nbformat_minor": 4
}
